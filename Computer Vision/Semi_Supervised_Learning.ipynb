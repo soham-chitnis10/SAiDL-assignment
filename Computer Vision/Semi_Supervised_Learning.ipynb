{
  "nbformat": 4,
  "nbformat_minor": 0,
  "metadata": {
    "colab": {
      "name": "Semi-Supervised Learning.ipynb",
      "provenance": [],
      "include_colab_link": true
    },
    "kernelspec": {
      "name": "python3",
      "display_name": "Python 3"
    },
    "language_info": {
      "name": "python"
    },
    "accelerator": "GPU",
    "widgets": {
      "application/vnd.jupyter.widget-state+json": {
        "bbbb5752185049c49e233e4c54b55b59": {
          "model_module": "@jupyter-widgets/controls",
          "model_name": "HBoxModel",
          "model_module_version": "1.5.0",
          "state": {
            "_view_name": "HBoxView",
            "_dom_classes": [],
            "_model_name": "HBoxModel",
            "_view_module": "@jupyter-widgets/controls",
            "_model_module_version": "1.5.0",
            "_view_count": null,
            "_view_module_version": "1.5.0",
            "box_style": "",
            "layout": "IPY_MODEL_06deb4c0489f41fbbc014529b4d864c6",
            "_model_module": "@jupyter-widgets/controls",
            "children": [
              "IPY_MODEL_36f0c7f0f2bc4bd9b84aa08ad13170ee",
              "IPY_MODEL_d59995fd5d1f4b539e98e664c9a4567b",
              "IPY_MODEL_8fc841d98dd34b3ab2a81becd44616b1"
            ]
          }
        },
        "06deb4c0489f41fbbc014529b4d864c6": {
          "model_module": "@jupyter-widgets/base",
          "model_name": "LayoutModel",
          "model_module_version": "1.2.0",
          "state": {
            "_view_name": "LayoutView",
            "grid_template_rows": null,
            "right": null,
            "justify_content": null,
            "_view_module": "@jupyter-widgets/base",
            "overflow": null,
            "_model_module_version": "1.2.0",
            "_view_count": null,
            "flex_flow": null,
            "width": null,
            "min_width": null,
            "border": null,
            "align_items": null,
            "bottom": null,
            "_model_module": "@jupyter-widgets/base",
            "top": null,
            "grid_column": null,
            "overflow_y": null,
            "overflow_x": null,
            "grid_auto_flow": null,
            "grid_area": null,
            "grid_template_columns": null,
            "flex": null,
            "_model_name": "LayoutModel",
            "justify_items": null,
            "grid_row": null,
            "max_height": null,
            "align_content": null,
            "visibility": null,
            "align_self": null,
            "height": null,
            "min_height": null,
            "padding": null,
            "grid_auto_rows": null,
            "grid_gap": null,
            "max_width": null,
            "order": null,
            "_view_module_version": "1.2.0",
            "grid_template_areas": null,
            "object_position": null,
            "object_fit": null,
            "grid_auto_columns": null,
            "margin": null,
            "display": null,
            "left": null
          }
        },
        "36f0c7f0f2bc4bd9b84aa08ad13170ee": {
          "model_module": "@jupyter-widgets/controls",
          "model_name": "HTMLModel",
          "model_module_version": "1.5.0",
          "state": {
            "_view_name": "HTMLView",
            "style": "IPY_MODEL_bf3684a6bb3e44e6b03789b39cfacc89",
            "_dom_classes": [],
            "description": "",
            "_model_name": "HTMLModel",
            "placeholder": "​",
            "_view_module": "@jupyter-widgets/controls",
            "_model_module_version": "1.5.0",
            "value": "",
            "_view_count": null,
            "_view_module_version": "1.5.0",
            "description_tooltip": null,
            "_model_module": "@jupyter-widgets/controls",
            "layout": "IPY_MODEL_860c9bc816854799b3b42d3eb20d5066"
          }
        },
        "d59995fd5d1f4b539e98e664c9a4567b": {
          "model_module": "@jupyter-widgets/controls",
          "model_name": "FloatProgressModel",
          "model_module_version": "1.5.0",
          "state": {
            "_view_name": "ProgressView",
            "style": "IPY_MODEL_29fc02a88c5648479b41e637bf72f66a",
            "_dom_classes": [],
            "description": "",
            "_model_name": "FloatProgressModel",
            "bar_style": "success",
            "max": 2640397119,
            "_view_module": "@jupyter-widgets/controls",
            "_model_module_version": "1.5.0",
            "value": 2640397119,
            "_view_count": null,
            "_view_module_version": "1.5.0",
            "orientation": "horizontal",
            "min": 0,
            "description_tooltip": null,
            "_model_module": "@jupyter-widgets/controls",
            "layout": "IPY_MODEL_ee5ef2f7210742d29e14e5a2079f58b1"
          }
        },
        "8fc841d98dd34b3ab2a81becd44616b1": {
          "model_module": "@jupyter-widgets/controls",
          "model_name": "HTMLModel",
          "model_module_version": "1.5.0",
          "state": {
            "_view_name": "HTMLView",
            "style": "IPY_MODEL_4178451ca58341809d04e9167a8a864f",
            "_dom_classes": [],
            "description": "",
            "_model_name": "HTMLModel",
            "placeholder": "​",
            "_view_module": "@jupyter-widgets/controls",
            "_model_module_version": "1.5.0",
            "value": " 2640397312/? [00:35&lt;00:00, 31278928.26it/s]",
            "_view_count": null,
            "_view_module_version": "1.5.0",
            "description_tooltip": null,
            "_model_module": "@jupyter-widgets/controls",
            "layout": "IPY_MODEL_fb6b4b0605ee4d699d7fc4149302bb2d"
          }
        },
        "bf3684a6bb3e44e6b03789b39cfacc89": {
          "model_module": "@jupyter-widgets/controls",
          "model_name": "DescriptionStyleModel",
          "model_module_version": "1.5.0",
          "state": {
            "_view_name": "StyleView",
            "_model_name": "DescriptionStyleModel",
            "description_width": "",
            "_view_module": "@jupyter-widgets/base",
            "_model_module_version": "1.5.0",
            "_view_count": null,
            "_view_module_version": "1.2.0",
            "_model_module": "@jupyter-widgets/controls"
          }
        },
        "860c9bc816854799b3b42d3eb20d5066": {
          "model_module": "@jupyter-widgets/base",
          "model_name": "LayoutModel",
          "model_module_version": "1.2.0",
          "state": {
            "_view_name": "LayoutView",
            "grid_template_rows": null,
            "right": null,
            "justify_content": null,
            "_view_module": "@jupyter-widgets/base",
            "overflow": null,
            "_model_module_version": "1.2.0",
            "_view_count": null,
            "flex_flow": null,
            "width": null,
            "min_width": null,
            "border": null,
            "align_items": null,
            "bottom": null,
            "_model_module": "@jupyter-widgets/base",
            "top": null,
            "grid_column": null,
            "overflow_y": null,
            "overflow_x": null,
            "grid_auto_flow": null,
            "grid_area": null,
            "grid_template_columns": null,
            "flex": null,
            "_model_name": "LayoutModel",
            "justify_items": null,
            "grid_row": null,
            "max_height": null,
            "align_content": null,
            "visibility": null,
            "align_self": null,
            "height": null,
            "min_height": null,
            "padding": null,
            "grid_auto_rows": null,
            "grid_gap": null,
            "max_width": null,
            "order": null,
            "_view_module_version": "1.2.0",
            "grid_template_areas": null,
            "object_position": null,
            "object_fit": null,
            "grid_auto_columns": null,
            "margin": null,
            "display": null,
            "left": null
          }
        },
        "29fc02a88c5648479b41e637bf72f66a": {
          "model_module": "@jupyter-widgets/controls",
          "model_name": "ProgressStyleModel",
          "model_module_version": "1.5.0",
          "state": {
            "_view_name": "StyleView",
            "_model_name": "ProgressStyleModel",
            "description_width": "",
            "_view_module": "@jupyter-widgets/base",
            "_model_module_version": "1.5.0",
            "_view_count": null,
            "_view_module_version": "1.2.0",
            "bar_color": null,
            "_model_module": "@jupyter-widgets/controls"
          }
        },
        "ee5ef2f7210742d29e14e5a2079f58b1": {
          "model_module": "@jupyter-widgets/base",
          "model_name": "LayoutModel",
          "model_module_version": "1.2.0",
          "state": {
            "_view_name": "LayoutView",
            "grid_template_rows": null,
            "right": null,
            "justify_content": null,
            "_view_module": "@jupyter-widgets/base",
            "overflow": null,
            "_model_module_version": "1.2.0",
            "_view_count": null,
            "flex_flow": null,
            "width": null,
            "min_width": null,
            "border": null,
            "align_items": null,
            "bottom": null,
            "_model_module": "@jupyter-widgets/base",
            "top": null,
            "grid_column": null,
            "overflow_y": null,
            "overflow_x": null,
            "grid_auto_flow": null,
            "grid_area": null,
            "grid_template_columns": null,
            "flex": null,
            "_model_name": "LayoutModel",
            "justify_items": null,
            "grid_row": null,
            "max_height": null,
            "align_content": null,
            "visibility": null,
            "align_self": null,
            "height": null,
            "min_height": null,
            "padding": null,
            "grid_auto_rows": null,
            "grid_gap": null,
            "max_width": null,
            "order": null,
            "_view_module_version": "1.2.0",
            "grid_template_areas": null,
            "object_position": null,
            "object_fit": null,
            "grid_auto_columns": null,
            "margin": null,
            "display": null,
            "left": null
          }
        },
        "4178451ca58341809d04e9167a8a864f": {
          "model_module": "@jupyter-widgets/controls",
          "model_name": "DescriptionStyleModel",
          "model_module_version": "1.5.0",
          "state": {
            "_view_name": "StyleView",
            "_model_name": "DescriptionStyleModel",
            "description_width": "",
            "_view_module": "@jupyter-widgets/base",
            "_model_module_version": "1.5.0",
            "_view_count": null,
            "_view_module_version": "1.2.0",
            "_model_module": "@jupyter-widgets/controls"
          }
        },
        "fb6b4b0605ee4d699d7fc4149302bb2d": {
          "model_module": "@jupyter-widgets/base",
          "model_name": "LayoutModel",
          "model_module_version": "1.2.0",
          "state": {
            "_view_name": "LayoutView",
            "grid_template_rows": null,
            "right": null,
            "justify_content": null,
            "_view_module": "@jupyter-widgets/base",
            "overflow": null,
            "_model_module_version": "1.2.0",
            "_view_count": null,
            "flex_flow": null,
            "width": null,
            "min_width": null,
            "border": null,
            "align_items": null,
            "bottom": null,
            "_model_module": "@jupyter-widgets/base",
            "top": null,
            "grid_column": null,
            "overflow_y": null,
            "overflow_x": null,
            "grid_auto_flow": null,
            "grid_area": null,
            "grid_template_columns": null,
            "flex": null,
            "_model_name": "LayoutModel",
            "justify_items": null,
            "grid_row": null,
            "max_height": null,
            "align_content": null,
            "visibility": null,
            "align_self": null,
            "height": null,
            "min_height": null,
            "padding": null,
            "grid_auto_rows": null,
            "grid_gap": null,
            "max_width": null,
            "order": null,
            "_view_module_version": "1.2.0",
            "grid_template_areas": null,
            "object_position": null,
            "object_fit": null,
            "grid_auto_columns": null,
            "margin": null,
            "display": null,
            "left": null
          }
        },
        "6756a53d5e624efe9b6ff516fa5e5df8": {
          "model_module": "@jupyter-widgets/controls",
          "model_name": "HBoxModel",
          "model_module_version": "1.5.0",
          "state": {
            "_view_name": "HBoxView",
            "_dom_classes": [],
            "_model_name": "HBoxModel",
            "_view_module": "@jupyter-widgets/controls",
            "_model_module_version": "1.5.0",
            "_view_count": null,
            "_view_module_version": "1.5.0",
            "box_style": "",
            "layout": "IPY_MODEL_4000da0b62884d66b73bbda0b1097c9b",
            "_model_module": "@jupyter-widgets/controls",
            "children": [
              "IPY_MODEL_790a79f80d154ae78da67504f1c36689",
              "IPY_MODEL_c3c7ea7c99374ff89e7ba4a2b0ca4695"
            ]
          }
        },
        "4000da0b62884d66b73bbda0b1097c9b": {
          "model_module": "@jupyter-widgets/base",
          "model_name": "LayoutModel",
          "model_module_version": "1.2.0",
          "state": {
            "_view_name": "LayoutView",
            "grid_template_rows": null,
            "right": null,
            "justify_content": null,
            "_view_module": "@jupyter-widgets/base",
            "overflow": null,
            "_model_module_version": "1.2.0",
            "_view_count": null,
            "flex_flow": null,
            "width": null,
            "min_width": null,
            "border": null,
            "align_items": null,
            "bottom": null,
            "_model_module": "@jupyter-widgets/base",
            "top": null,
            "grid_column": null,
            "overflow_y": null,
            "overflow_x": null,
            "grid_auto_flow": null,
            "grid_area": null,
            "grid_template_columns": null,
            "flex": null,
            "_model_name": "LayoutModel",
            "justify_items": null,
            "grid_row": null,
            "max_height": null,
            "align_content": null,
            "visibility": null,
            "align_self": null,
            "height": null,
            "min_height": null,
            "padding": null,
            "grid_auto_rows": null,
            "grid_gap": null,
            "max_width": null,
            "order": null,
            "_view_module_version": "1.2.0",
            "grid_template_areas": null,
            "object_position": null,
            "object_fit": null,
            "grid_auto_columns": null,
            "margin": null,
            "display": null,
            "left": null
          }
        },
        "790a79f80d154ae78da67504f1c36689": {
          "model_module": "@jupyter-widgets/controls",
          "model_name": "FloatProgressModel",
          "model_module_version": "1.5.0",
          "state": {
            "_view_name": "ProgressView",
            "style": "IPY_MODEL_1147e278f9044075a0dc6e904bd442bb",
            "_dom_classes": [],
            "description": "100%",
            "_model_name": "FloatProgressModel",
            "bar_style": "success",
            "max": 100,
            "_view_module": "@jupyter-widgets/controls",
            "_model_module_version": "1.5.0",
            "value": 100,
            "_view_count": null,
            "_view_module_version": "1.5.0",
            "orientation": "horizontal",
            "min": 0,
            "description_tooltip": null,
            "_model_module": "@jupyter-widgets/controls",
            "layout": "IPY_MODEL_233b50c9662248b89cbe8ac0d403f724"
          }
        },
        "c3c7ea7c99374ff89e7ba4a2b0ca4695": {
          "model_module": "@jupyter-widgets/controls",
          "model_name": "HTMLModel",
          "model_module_version": "1.5.0",
          "state": {
            "_view_name": "HTMLView",
            "style": "IPY_MODEL_87942d79cc894471b5c3b8b88e06d4ee",
            "_dom_classes": [],
            "description": "",
            "_model_name": "HTMLModel",
            "placeholder": "​",
            "_view_module": "@jupyter-widgets/controls",
            "_model_module_version": "1.5.0",
            "value": " 100/100 [48:04&lt;00:00, 28.84s/it]",
            "_view_count": null,
            "_view_module_version": "1.5.0",
            "description_tooltip": null,
            "_model_module": "@jupyter-widgets/controls",
            "layout": "IPY_MODEL_b1769896f7414d0d81f2bf853a2157b3"
          }
        },
        "1147e278f9044075a0dc6e904bd442bb": {
          "model_module": "@jupyter-widgets/controls",
          "model_name": "ProgressStyleModel",
          "model_module_version": "1.5.0",
          "state": {
            "_view_name": "StyleView",
            "_model_name": "ProgressStyleModel",
            "description_width": "initial",
            "_view_module": "@jupyter-widgets/base",
            "_model_module_version": "1.5.0",
            "_view_count": null,
            "_view_module_version": "1.2.0",
            "bar_color": null,
            "_model_module": "@jupyter-widgets/controls"
          }
        },
        "233b50c9662248b89cbe8ac0d403f724": {
          "model_module": "@jupyter-widgets/base",
          "model_name": "LayoutModel",
          "model_module_version": "1.2.0",
          "state": {
            "_view_name": "LayoutView",
            "grid_template_rows": null,
            "right": null,
            "justify_content": null,
            "_view_module": "@jupyter-widgets/base",
            "overflow": null,
            "_model_module_version": "1.2.0",
            "_view_count": null,
            "flex_flow": null,
            "width": null,
            "min_width": null,
            "border": null,
            "align_items": null,
            "bottom": null,
            "_model_module": "@jupyter-widgets/base",
            "top": null,
            "grid_column": null,
            "overflow_y": null,
            "overflow_x": null,
            "grid_auto_flow": null,
            "grid_area": null,
            "grid_template_columns": null,
            "flex": null,
            "_model_name": "LayoutModel",
            "justify_items": null,
            "grid_row": null,
            "max_height": null,
            "align_content": null,
            "visibility": null,
            "align_self": null,
            "height": null,
            "min_height": null,
            "padding": null,
            "grid_auto_rows": null,
            "grid_gap": null,
            "max_width": null,
            "order": null,
            "_view_module_version": "1.2.0",
            "grid_template_areas": null,
            "object_position": null,
            "object_fit": null,
            "grid_auto_columns": null,
            "margin": null,
            "display": null,
            "left": null
          }
        },
        "87942d79cc894471b5c3b8b88e06d4ee": {
          "model_module": "@jupyter-widgets/controls",
          "model_name": "DescriptionStyleModel",
          "model_module_version": "1.5.0",
          "state": {
            "_view_name": "StyleView",
            "_model_name": "DescriptionStyleModel",
            "description_width": "",
            "_view_module": "@jupyter-widgets/base",
            "_model_module_version": "1.5.0",
            "_view_count": null,
            "_view_module_version": "1.2.0",
            "_model_module": "@jupyter-widgets/controls"
          }
        },
        "b1769896f7414d0d81f2bf853a2157b3": {
          "model_module": "@jupyter-widgets/base",
          "model_name": "LayoutModel",
          "model_module_version": "1.2.0",
          "state": {
            "_view_name": "LayoutView",
            "grid_template_rows": null,
            "right": null,
            "justify_content": null,
            "_view_module": "@jupyter-widgets/base",
            "overflow": null,
            "_model_module_version": "1.2.0",
            "_view_count": null,
            "flex_flow": null,
            "width": null,
            "min_width": null,
            "border": null,
            "align_items": null,
            "bottom": null,
            "_model_module": "@jupyter-widgets/base",
            "top": null,
            "grid_column": null,
            "overflow_y": null,
            "overflow_x": null,
            "grid_auto_flow": null,
            "grid_area": null,
            "grid_template_columns": null,
            "flex": null,
            "_model_name": "LayoutModel",
            "justify_items": null,
            "grid_row": null,
            "max_height": null,
            "align_content": null,
            "visibility": null,
            "align_self": null,
            "height": null,
            "min_height": null,
            "padding": null,
            "grid_auto_rows": null,
            "grid_gap": null,
            "max_width": null,
            "order": null,
            "_view_module_version": "1.2.0",
            "grid_template_areas": null,
            "object_position": null,
            "object_fit": null,
            "grid_auto_columns": null,
            "margin": null,
            "display": null,
            "left": null
          }
        },
        "909499c12a314716805b406f4cde601c": {
          "model_module": "@jupyter-widgets/controls",
          "model_name": "HBoxModel",
          "model_module_version": "1.5.0",
          "state": {
            "_view_name": "HBoxView",
            "_dom_classes": [],
            "_model_name": "HBoxModel",
            "_view_module": "@jupyter-widgets/controls",
            "_model_module_version": "1.5.0",
            "_view_count": null,
            "_view_module_version": "1.5.0",
            "box_style": "",
            "layout": "IPY_MODEL_32b6bc350b3245a7b8560757bb78277e",
            "_model_module": "@jupyter-widgets/controls",
            "children": [
              "IPY_MODEL_d32ecf8b8a68439782216767a9dd4504",
              "IPY_MODEL_c2c356a4bc474ab187fc6ecc5683e480",
              "IPY_MODEL_a21dd359280243e3b6d3380d00b7566d"
            ]
          }
        },
        "32b6bc350b3245a7b8560757bb78277e": {
          "model_module": "@jupyter-widgets/base",
          "model_name": "LayoutModel",
          "model_module_version": "1.2.0",
          "state": {
            "_view_name": "LayoutView",
            "grid_template_rows": null,
            "right": null,
            "justify_content": null,
            "_view_module": "@jupyter-widgets/base",
            "overflow": null,
            "_model_module_version": "1.2.0",
            "_view_count": null,
            "flex_flow": null,
            "width": null,
            "min_width": null,
            "border": null,
            "align_items": null,
            "bottom": null,
            "_model_module": "@jupyter-widgets/base",
            "top": null,
            "grid_column": null,
            "overflow_y": null,
            "overflow_x": null,
            "grid_auto_flow": null,
            "grid_area": null,
            "grid_template_columns": null,
            "flex": null,
            "_model_name": "LayoutModel",
            "justify_items": null,
            "grid_row": null,
            "max_height": null,
            "align_content": null,
            "visibility": null,
            "align_self": null,
            "height": null,
            "min_height": null,
            "padding": null,
            "grid_auto_rows": null,
            "grid_gap": null,
            "max_width": null,
            "order": null,
            "_view_module_version": "1.2.0",
            "grid_template_areas": null,
            "object_position": null,
            "object_fit": null,
            "grid_auto_columns": null,
            "margin": null,
            "display": null,
            "left": null
          }
        },
        "d32ecf8b8a68439782216767a9dd4504": {
          "model_module": "@jupyter-widgets/controls",
          "model_name": "HTMLModel",
          "model_module_version": "1.5.0",
          "state": {
            "_view_name": "HTMLView",
            "style": "IPY_MODEL_2997cbe050c24640abbdb9d4ed1876f1",
            "_dom_classes": [],
            "description": "",
            "_model_name": "HTMLModel",
            "placeholder": "​",
            "_view_module": "@jupyter-widgets/controls",
            "_model_module_version": "1.5.0",
            "value": " 60%",
            "_view_count": null,
            "_view_module_version": "1.5.0",
            "description_tooltip": null,
            "_model_module": "@jupyter-widgets/controls",
            "layout": "IPY_MODEL_419cb5c1bebe40ecac80ed36c49023ce"
          }
        },
        "c2c356a4bc474ab187fc6ecc5683e480": {
          "model_module": "@jupyter-widgets/controls",
          "model_name": "FloatProgressModel",
          "model_module_version": "1.5.0",
          "state": {
            "_view_name": "ProgressView",
            "style": "IPY_MODEL_b1561280db0a47e1980bc5465fe96ab9",
            "_dom_classes": [],
            "description": "",
            "_model_name": "FloatProgressModel",
            "bar_style": "",
            "max": 10,
            "_view_module": "@jupyter-widgets/controls",
            "_model_module_version": "1.5.0",
            "value": 6,
            "_view_count": null,
            "_view_module_version": "1.5.0",
            "orientation": "horizontal",
            "min": 0,
            "description_tooltip": null,
            "_model_module": "@jupyter-widgets/controls",
            "layout": "IPY_MODEL_96747daac4b444189b6609b48251e9cb"
          }
        },
        "a21dd359280243e3b6d3380d00b7566d": {
          "model_module": "@jupyter-widgets/controls",
          "model_name": "HTMLModel",
          "model_module_version": "1.5.0",
          "state": {
            "_view_name": "HTMLView",
            "style": "IPY_MODEL_ad38c6448dab4594add5b0eb2e5f31b9",
            "_dom_classes": [],
            "description": "",
            "_model_name": "HTMLModel",
            "placeholder": "​",
            "_view_module": "@jupyter-widgets/controls",
            "_model_module_version": "1.5.0",
            "value": " 6/10 [2:51:05&lt;1:54:14, 1713.67s/it]",
            "_view_count": null,
            "_view_module_version": "1.5.0",
            "description_tooltip": null,
            "_model_module": "@jupyter-widgets/controls",
            "layout": "IPY_MODEL_f2c49bb5281a499c844224b62e9ec930"
          }
        },
        "2997cbe050c24640abbdb9d4ed1876f1": {
          "model_module": "@jupyter-widgets/controls",
          "model_name": "DescriptionStyleModel",
          "model_module_version": "1.5.0",
          "state": {
            "_view_name": "StyleView",
            "_model_name": "DescriptionStyleModel",
            "description_width": "",
            "_view_module": "@jupyter-widgets/base",
            "_model_module_version": "1.5.0",
            "_view_count": null,
            "_view_module_version": "1.2.0",
            "_model_module": "@jupyter-widgets/controls"
          }
        },
        "419cb5c1bebe40ecac80ed36c49023ce": {
          "model_module": "@jupyter-widgets/base",
          "model_name": "LayoutModel",
          "model_module_version": "1.2.0",
          "state": {
            "_view_name": "LayoutView",
            "grid_template_rows": null,
            "right": null,
            "justify_content": null,
            "_view_module": "@jupyter-widgets/base",
            "overflow": null,
            "_model_module_version": "1.2.0",
            "_view_count": null,
            "flex_flow": null,
            "width": null,
            "min_width": null,
            "border": null,
            "align_items": null,
            "bottom": null,
            "_model_module": "@jupyter-widgets/base",
            "top": null,
            "grid_column": null,
            "overflow_y": null,
            "overflow_x": null,
            "grid_auto_flow": null,
            "grid_area": null,
            "grid_template_columns": null,
            "flex": null,
            "_model_name": "LayoutModel",
            "justify_items": null,
            "grid_row": null,
            "max_height": null,
            "align_content": null,
            "visibility": null,
            "align_self": null,
            "height": null,
            "min_height": null,
            "padding": null,
            "grid_auto_rows": null,
            "grid_gap": null,
            "max_width": null,
            "order": null,
            "_view_module_version": "1.2.0",
            "grid_template_areas": null,
            "object_position": null,
            "object_fit": null,
            "grid_auto_columns": null,
            "margin": null,
            "display": null,
            "left": null
          }
        },
        "b1561280db0a47e1980bc5465fe96ab9": {
          "model_module": "@jupyter-widgets/controls",
          "model_name": "ProgressStyleModel",
          "model_module_version": "1.5.0",
          "state": {
            "_view_name": "StyleView",
            "_model_name": "ProgressStyleModel",
            "description_width": "",
            "_view_module": "@jupyter-widgets/base",
            "_model_module_version": "1.5.0",
            "_view_count": null,
            "_view_module_version": "1.2.0",
            "bar_color": null,
            "_model_module": "@jupyter-widgets/controls"
          }
        },
        "96747daac4b444189b6609b48251e9cb": {
          "model_module": "@jupyter-widgets/base",
          "model_name": "LayoutModel",
          "model_module_version": "1.2.0",
          "state": {
            "_view_name": "LayoutView",
            "grid_template_rows": null,
            "right": null,
            "justify_content": null,
            "_view_module": "@jupyter-widgets/base",
            "overflow": null,
            "_model_module_version": "1.2.0",
            "_view_count": null,
            "flex_flow": null,
            "width": null,
            "min_width": null,
            "border": null,
            "align_items": null,
            "bottom": null,
            "_model_module": "@jupyter-widgets/base",
            "top": null,
            "grid_column": null,
            "overflow_y": null,
            "overflow_x": null,
            "grid_auto_flow": null,
            "grid_area": null,
            "grid_template_columns": null,
            "flex": null,
            "_model_name": "LayoutModel",
            "justify_items": null,
            "grid_row": null,
            "max_height": null,
            "align_content": null,
            "visibility": null,
            "align_self": null,
            "height": null,
            "min_height": null,
            "padding": null,
            "grid_auto_rows": null,
            "grid_gap": null,
            "max_width": null,
            "order": null,
            "_view_module_version": "1.2.0",
            "grid_template_areas": null,
            "object_position": null,
            "object_fit": null,
            "grid_auto_columns": null,
            "margin": null,
            "display": null,
            "left": null
          }
        },
        "ad38c6448dab4594add5b0eb2e5f31b9": {
          "model_module": "@jupyter-widgets/controls",
          "model_name": "DescriptionStyleModel",
          "model_module_version": "1.5.0",
          "state": {
            "_view_name": "StyleView",
            "_model_name": "DescriptionStyleModel",
            "description_width": "",
            "_view_module": "@jupyter-widgets/base",
            "_model_module_version": "1.5.0",
            "_view_count": null,
            "_view_module_version": "1.2.0",
            "_model_module": "@jupyter-widgets/controls"
          }
        },
        "f2c49bb5281a499c844224b62e9ec930": {
          "model_module": "@jupyter-widgets/base",
          "model_name": "LayoutModel",
          "model_module_version": "1.2.0",
          "state": {
            "_view_name": "LayoutView",
            "grid_template_rows": null,
            "right": null,
            "justify_content": null,
            "_view_module": "@jupyter-widgets/base",
            "overflow": null,
            "_model_module_version": "1.2.0",
            "_view_count": null,
            "flex_flow": null,
            "width": null,
            "min_width": null,
            "border": null,
            "align_items": null,
            "bottom": null,
            "_model_module": "@jupyter-widgets/base",
            "top": null,
            "grid_column": null,
            "overflow_y": null,
            "overflow_x": null,
            "grid_auto_flow": null,
            "grid_area": null,
            "grid_template_columns": null,
            "flex": null,
            "_model_name": "LayoutModel",
            "justify_items": null,
            "grid_row": null,
            "max_height": null,
            "align_content": null,
            "visibility": null,
            "align_self": null,
            "height": null,
            "min_height": null,
            "padding": null,
            "grid_auto_rows": null,
            "grid_gap": null,
            "max_width": null,
            "order": null,
            "_view_module_version": "1.2.0",
            "grid_template_areas": null,
            "object_position": null,
            "object_fit": null,
            "grid_auto_columns": null,
            "margin": null,
            "display": null,
            "left": null
          }
        }
      }
    }
  },
  "cells": [
    {
      "cell_type": "markdown",
      "metadata": {
        "id": "view-in-github",
        "colab_type": "text"
      },
      "source": [
        "<a href=\"https://colab.research.google.com/github/soham-chitnis10/SAiDL-assignment/blob/main/Computer%20Vision/Semi_Supervised_Learning.ipynb\" target=\"_parent\"><img src=\"https://colab.research.google.com/assets/colab-badge.svg\" alt=\"Open In Colab\"/></a>"
      ]
    },
    {
      "cell_type": "code",
      "metadata": {
        "id": "f0YHt1oIhhZ1",
        "colab": {
          "base_uri": "https://localhost:8080/",
          "height": 116,
          "referenced_widgets": [
            "bbbb5752185049c49e233e4c54b55b59",
            "06deb4c0489f41fbbc014529b4d864c6",
            "36f0c7f0f2bc4bd9b84aa08ad13170ee",
            "d59995fd5d1f4b539e98e664c9a4567b",
            "8fc841d98dd34b3ab2a81becd44616b1",
            "bf3684a6bb3e44e6b03789b39cfacc89",
            "860c9bc816854799b3b42d3eb20d5066",
            "29fc02a88c5648479b41e637bf72f66a",
            "ee5ef2f7210742d29e14e5a2079f58b1",
            "4178451ca58341809d04e9167a8a864f",
            "fb6b4b0605ee4d699d7fc4149302bb2d"
          ]
        },
        "outputId": "239ee5f7-5682-4c9a-8f2e-10e36cb7a759"
      },
      "source": [
        "from __future__ import print_function, division\n",
        "import torch\n",
        "import torch.nn as nn\n",
        "import torch.optim as optim\n",
        "from torch.optim import lr_scheduler\n",
        "import numpy as np\n",
        "import torchvision\n",
        "from torch.utils.data import Dataset\n",
        "from torchvision import datasets, models, transforms\n",
        "import matplotlib.pyplot as plt\n",
        "import time\n",
        "import copy\n",
        "#data augmentation and Normalization\n",
        "train_transform = transforms.Compose([\n",
        "        transforms.Resize((272,272)),\n",
        "        transforms.RandomRotation(15,),\n",
        "        transforms.RandomCrop(256),\n",
        "        transforms.RandomHorizontalFlip(),\n",
        "        transforms.ToTensor(),\n",
        "        transforms.Normalize(mean=[0.507, 0.487, 0.441], std=[0.267, 0.256, 0.276])\n",
        "    ])\n",
        "\n",
        "test_transform = transforms.Compose([\n",
        "        transforms.Resize(256),\n",
        "        transforms.ToTensor(),\n",
        "        transforms.Normalize(mean=[0.507, 0.487, 0.441], std=[0.267, 0.256, 0.276])\n",
        "    ])\n",
        "\n",
        "trainset = datasets.STL10(\n",
        "    root=\"data\",\n",
        "    split='train',\n",
        "    download=True,\n",
        "    transform=train_transform\n",
        ")\n",
        "testset = datasets.STL10(\n",
        "    root=\"data\",\n",
        "    split='test',\n",
        "    download=True,\n",
        "    transform=test_transform\n",
        ")\n",
        "unlabeledset = datasets.STL10(\n",
        "    root=\"data\",\n",
        "    split='unlabeled',\n",
        "    download=True,\n",
        "    transform=train_transform\n",
        ")\n",
        "from torch.utils.data import DataLoader\n",
        "train_loader = DataLoader(trainset, batch_size=64, shuffle=True,num_workers = 2)\n",
        "test_loader = DataLoader(testset, batch_size=64, shuffle=True,num_workers = 2)\n",
        "unlabeled_loader = DataLoader(unlabeledset, batch_size=32, shuffle=True,num_workers = 2)\n",
        "device = torch.device(\"cuda:0\" if torch.cuda.is_available() else \"cpu\")\n",
        "Num_class=10\n",
        "import torch.nn.functional as F"
      ],
      "execution_count": null,
      "outputs": [
        {
          "output_type": "stream",
          "text": [
            "Downloading http://ai.stanford.edu/~acoates/stl10/stl10_binary.tar.gz to data/stl10_binary.tar.gz\n"
          ],
          "name": "stdout"
        },
        {
          "output_type": "display_data",
          "data": {
            "application/vnd.jupyter.widget-view+json": {
              "model_id": "bbbb5752185049c49e233e4c54b55b59",
              "version_minor": 0,
              "version_major": 2
            },
            "text/plain": [
              "  0%|          | 0/2640397119 [00:00<?, ?it/s]"
            ]
          },
          "metadata": {
            "tags": []
          }
        },
        {
          "output_type": "stream",
          "text": [
            "Extracting data/stl10_binary.tar.gz to data\n",
            "Files already downloaded and verified\n",
            "Files already downloaded and verified\n"
          ],
          "name": "stdout"
        }
      ]
    },
    {
      "cell_type": "code",
      "metadata": {
        "id": "v98kK5CD_LHP"
      },
      "source": [
        "model_ft = models.resnet18().to(device)"
      ],
      "execution_count": null,
      "outputs": []
    },
    {
      "cell_type": "code",
      "metadata": {
        "id": "OVHFasqXiAUe"
      },
      "source": [
        "def evaluate(model, test_loader,criterion):\n",
        "    model.eval()\n",
        "    correct = 0 \n",
        "    loss = 0\n",
        "    with torch.no_grad():\n",
        "        for data, labels in test_loader:\n",
        "            data = data.to(device)\n",
        "            output = model(data)\n",
        "            predicted = torch.max(output,1)[1]\n",
        "            correct += (predicted == labels.to(device)).sum()\n",
        "            loss += criterion(output, labels.to(device)).item()\n",
        "\n",
        "    return (float(correct)/len(testset)) *100, (loss/len(test_loader))"
      ],
      "execution_count": null,
      "outputs": []
    },
    {
      "cell_type": "code",
      "metadata": {
        "id": "1x587whkBl0r"
      },
      "source": [
        "criterion = nn.CrossEntropyLoss()\n",
        "optimizer_ft = torch.optim.Adam( model_ft.parameters(), lr = 0.001)"
      ],
      "execution_count": null,
      "outputs": []
    },
    {
      "cell_type": "code",
      "metadata": {
        "id": "MIbpO-SEiI8K"
      },
      "source": [
        "from tqdm.notebook import tqdm\n",
        "def train_supervised(model, train_loader, test_loader,optimizer,criterion,EPOCHS):\n",
        "    model.train()\n",
        "    for epoch in tqdm(range(EPOCHS)):\n",
        "        torch.cuda.empty_cache()\n",
        "        correct = 0\n",
        "        running_loss = 0\n",
        "        for batch_idx, (X_batch, y_batch) in enumerate(train_loader):\n",
        "            X_batch, y_batch = X_batch.to(device), y_batch.to(device)\n",
        "            \n",
        "            output = model(X_batch)\n",
        "            labeled_loss = criterion(output, y_batch)\n",
        "                       \n",
        "            optimizer.zero_grad()\n",
        "            labeled_loss.backward()\n",
        "            optimizer.step()\n",
        "            running_loss += labeled_loss.item()\n",
        "        \n",
        "        if epoch %10 == 0:\n",
        "            test_acc, test_loss = evaluate(model, test_loader,criterion)\n",
        "            print('Epoch: {} : Train Loss : {:.5f} | Test Acc : {:.5f} | Test Loss : {:.3f} '.format(epoch, running_loss/(10 * len(trainset)), test_acc, test_loss))\n",
        "            model.train()"
      ],
      "execution_count": null,
      "outputs": []
    },
    {
      "cell_type": "code",
      "metadata": {
        "id": "DyMl_ZydiObK",
        "colab": {
          "base_uri": "https://localhost:8080/",
          "height": 287,
          "referenced_widgets": [
            "6756a53d5e624efe9b6ff516fa5e5df8",
            "4000da0b62884d66b73bbda0b1097c9b",
            "790a79f80d154ae78da67504f1c36689",
            "c3c7ea7c99374ff89e7ba4a2b0ca4695",
            "1147e278f9044075a0dc6e904bd442bb",
            "233b50c9662248b89cbe8ac0d403f724",
            "87942d79cc894471b5c3b8b88e06d4ee",
            "b1769896f7414d0d81f2bf853a2157b3"
          ]
        },
        "outputId": "04a05a0d-8b62-484d-814a-b717f52bc972"
      },
      "source": [
        "train_supervised(model_ft, train_loader, test_loader,optimizer_ft,criterion,100)"
      ],
      "execution_count": null,
      "outputs": [
        {
          "output_type": "display_data",
          "data": {
            "application/vnd.jupyter.widget-view+json": {
              "model_id": "6756a53d5e624efe9b6ff516fa5e5df8",
              "version_minor": 0,
              "version_major": 2
            },
            "text/plain": [
              "HBox(children=(FloatProgress(value=0.0), HTML(value='')))"
            ]
          },
          "metadata": {
            "tags": []
          }
        },
        {
          "output_type": "stream",
          "text": [
            "/usr/local/lib/python3.7/dist-packages/torch/nn/functional.py:718: UserWarning: Named tensors and all their associated APIs are an experimental feature and subject to change. Please do not use them for anything important until they are released as stable. (Triggered internally at  /pytorch/c10/core/TensorImpl.h:1156.)\n",
            "  return torch.max_pool2d(input, kernel_size, stride, padding, dilation, ceil_mode)\n"
          ],
          "name": "stderr"
        },
        {
          "output_type": "stream",
          "text": [
            "Epoch: 0 : Train Loss : 0.00172 | Test Acc : 30.75000 | Test Loss : 1.768 \n",
            "Epoch: 10 : Train Loss : 0.00082 | Test Acc : 53.93750 | Test Loss : 1.266 \n",
            "Epoch: 20 : Train Loss : 0.00060 | Test Acc : 60.35000 | Test Loss : 1.135 \n",
            "Epoch: 30 : Train Loss : 0.00043 | Test Acc : 68.02500 | Test Loss : 0.969 \n",
            "Epoch: 40 : Train Loss : 0.00036 | Test Acc : 70.43750 | Test Loss : 0.940 \n",
            "Epoch: 50 : Train Loss : 0.00021 | Test Acc : 73.72500 | Test Loss : 0.868 \n",
            "Epoch: 60 : Train Loss : 0.00015 | Test Acc : 70.20000 | Test Loss : 1.147 \n",
            "Epoch: 70 : Train Loss : 0.00009 | Test Acc : 72.32500 | Test Loss : 1.041 \n",
            "Epoch: 80 : Train Loss : 0.00011 | Test Acc : 75.22500 | Test Loss : 0.978 \n",
            "Epoch: 90 : Train Loss : 0.00012 | Test Acc : 74.36250 | Test Loss : 1.126 \n",
            "\n"
          ],
          "name": "stdout"
        }
      ]
    },
    {
      "cell_type": "code",
      "metadata": {
        "id": "b9UDUeqgiPOC",
        "colab": {
          "base_uri": "https://localhost:8080/"
        },
        "outputId": "0b2ba31e-8daf-4e07-c592-1748e2dffcf7"
      },
      "source": [
        "test_acc, test_loss = evaluate(model_ft, test_loader,criterion)\n",
        "print('Test Acc : {:.5f} | Test Loss : {:.3f} '.format(test_acc, test_loss))\n",
        "torch.save(model_ft.state_dict(), 'supervised_weights')"
      ],
      "execution_count": null,
      "outputs": [
        {
          "output_type": "stream",
          "text": [
            "Test Acc : 73.56250 | Test Loss : 1.325 \n"
          ],
          "name": "stdout"
        }
      ]
    },
    {
      "cell_type": "code",
      "metadata": {
        "id": "3L6AZT_wiWeI",
        "colab": {
          "base_uri": "https://localhost:8080/"
        },
        "outputId": "51afa9d6-9be7-4ab4-d9df-263720d3d27b"
      },
      "source": [
        "model_ft.load_state_dict(torch.load('supervised_weights'))"
      ],
      "execution_count": null,
      "outputs": [
        {
          "output_type": "execute_result",
          "data": {
            "text/plain": [
              "<All keys matched successfully>"
            ]
          },
          "metadata": {
            "tags": []
          },
          "execution_count": 11
        }
      ]
    },
    {
      "cell_type": "code",
      "metadata": {
        "id": "t_e8KbKcicrX"
      },
      "source": [
        "T1 = 100\n",
        "T2 = 1000\n",
        "af = 3\n",
        "\n",
        "def alpha_weight(epoch):\n",
        "    if epoch < T1:\n",
        "        return 0.0\n",
        "    elif epoch > T2:\n",
        "        return af\n",
        "    else:\n",
        "         return ((epoch-T1) / (T2-T1))*af"
      ],
      "execution_count": null,
      "outputs": []
    },
    {
      "cell_type": "code",
      "metadata": {
        "id": "hwoe6w8H9mDv"
      },
      "source": [
        "torch.cuda.empty_cache()"
      ],
      "execution_count": null,
      "outputs": []
    },
    {
      "cell_type": "code",
      "metadata": {
        "id": "Yp9d0sZGiiJ6"
      },
      "source": [
        "from tqdm.notebook import tqdm\n",
        "\n",
        "acc_scores = []\n",
        "unlabel = []\n",
        "pseudo_label = []\n",
        "\n",
        "alpha_log = []\n",
        "test_acc_log = []\n",
        "test_loss_log = []\n",
        "\n",
        "def semisup_train(model, train_loader, unlabeled_loader, test_loader,optimizer,EPOCHS,criterion):\n",
        "    \n",
        "    # Instead of using current epoch we use a \"step\" variable to calculate alpha_weight\n",
        "    # This helps the model converge faster\n",
        "    step = 100 \n",
        "    best_accuracy = 0\n",
        "    model.train()\n",
        "    for epoch in tqdm(range(EPOCHS)):\n",
        "        torch.cuda.empty_cache()\n",
        "        for batch_idx, x_unlabeled in enumerate(unlabeled_loader):\n",
        "            \n",
        "            \n",
        "            # Forward Pass to get the pseudo labels\n",
        "            x_unlabeled = x_unlabeled[0].to(device)\n",
        "            model.eval()\n",
        "            output_unlabeled = model(x_unlabeled)\n",
        "            _, pseudo_labeled = torch.max(output_unlabeled, 1)\n",
        "            model.train()\n",
        "            \n",
        "            \n",
        "            # Now calculate the unlabeled loss using the pseudo label\n",
        "            output = model(x_unlabeled)\n",
        "            unlabeled_loss = alpha_weight(step) * criterion(output, pseudo_labeled)   \n",
        "            \n",
        "            # Backpropogate\n",
        "            optimizer.zero_grad()\n",
        "            unlabeled_loss.backward()\n",
        "            optimizer.step()\n",
        "            \n",
        "            \n",
        "            # For every 200 batches train one epoch on labeled data \n",
        "            if batch_idx % 200 == 0:\n",
        "                \n",
        "                # Normal training procedure\n",
        "                for batch_idx, (X_batch, y_batch) in enumerate(train_loader):\n",
        "                    X_batch = X_batch.to(device)\n",
        "                    y_batch = y_batch.to(device)\n",
        "                    output = model(X_batch)\n",
        "                    labeled_loss = criterion(output, y_batch)\n",
        "\n",
        "                    optimizer.zero_grad()\n",
        "                    labeled_loss.backward()\n",
        "                    optimizer.step()\n",
        "                \n",
        "                # Now we increment step by 1\n",
        "                step += 1\n",
        "                \n",
        "\n",
        "        test_acc, test_loss =evaluate(model, test_loader,criterion)\n",
        "        print('Epoch: {} : Alpha Weight : {:.5f} | Test Acc : {:.5f} | Test Loss : {:.3f} '.format(epoch, alpha_weight(step), test_acc, test_loss))\n",
        "        if test_acc > best_accuracy :\n",
        "          best_accuracy = test_acc\n",
        "          torch.save(model.state_dict(), 'semi_supervised_weights')\n",
        "        \"\"\" LOGGING VALUES \"\"\"\n",
        "        alpha_log.append(alpha_weight(step))\n",
        "        test_acc_log.append(test_acc/100)\n",
        "        test_loss_log.append(test_loss)\n",
        "        \"\"\" ************** \"\"\"\n",
        "        model.train()"
      ],
      "execution_count": null,
      "outputs": []
    },
    {
      "cell_type": "code",
      "metadata": {
        "id": "xSwwt4hOim7w",
        "colab": {
          "base_uri": "https://localhost:8080/",
          "height": 150,
          "referenced_widgets": [
            "909499c12a314716805b406f4cde601c",
            "32b6bc350b3245a7b8560757bb78277e",
            "d32ecf8b8a68439782216767a9dd4504",
            "c2c356a4bc474ab187fc6ecc5683e480",
            "a21dd359280243e3b6d3380d00b7566d",
            "2997cbe050c24640abbdb9d4ed1876f1",
            "419cb5c1bebe40ecac80ed36c49023ce",
            "b1561280db0a47e1980bc5465fe96ab9",
            "96747daac4b444189b6609b48251e9cb",
            "ad38c6448dab4594add5b0eb2e5f31b9",
            "f2c49bb5281a499c844224b62e9ec930"
          ]
        },
        "outputId": "7a995c1a-7fa6-474c-b925-37fb72752e19"
      },
      "source": [
        "semisup_train(model_ft, train_loader, unlabeled_loader, test_loader,optimizer_ft,10,criterion)"
      ],
      "execution_count": null,
      "outputs": [
        {
          "output_type": "display_data",
          "data": {
            "application/vnd.jupyter.widget-view+json": {
              "model_id": "909499c12a314716805b406f4cde601c",
              "version_minor": 0,
              "version_major": 2
            },
            "text/plain": [
              "  0%|          | 0/10 [00:00<?, ?it/s]"
            ]
          },
          "metadata": {
            "tags": []
          }
        },
        {
          "output_type": "stream",
          "text": [
            "Epoch: 0 : Alpha Weight : 0.05333 | Test Acc : 34.73750 | Test Loss : 4.993 \n",
            "Epoch: 1 : Alpha Weight : 0.10667 | Test Acc : 40.26250 | Test Loss : 4.459 \n",
            "Epoch: 2 : Alpha Weight : 0.16000 | Test Acc : 45.07500 | Test Loss : 4.280 \n",
            "Epoch: 3 : Alpha Weight : 0.21333 | Test Acc : 59.50000 | Test Loss : 2.132 \n",
            "Epoch: 4 : Alpha Weight : 0.26667 | Test Acc : 27.03750 | Test Loss : 6.819 \n",
            "Epoch: 5 : Alpha Weight : 0.32000 | Test Acc : 54.71250 | Test Loss : 2.986 \n"
          ],
          "name": "stdout"
        }
      ]
    },
    {
      "cell_type": "code",
      "metadata": {
        "colab": {
          "base_uri": "https://localhost:8080/"
        },
        "id": "PnqdVeWlug5z",
        "outputId": "a2938b21-5a09-4716-ac9f-b16b5d763f67"
      },
      "source": [
        "model_ft.load_state_dict(torch.load('semi_supervised_weights'))"
      ],
      "execution_count": null,
      "outputs": [
        {
          "output_type": "execute_result",
          "data": {
            "text/plain": [
              "<All keys matched successfully>"
            ]
          },
          "metadata": {
            "tags": []
          },
          "execution_count": 5
        }
      ]
    },
    {
      "cell_type": "code",
      "metadata": {
        "id": "4BoUKFXViqbl",
        "colab": {
          "base_uri": "https://localhost:8080/"
        },
        "outputId": "28840de0-a5ac-4734-8e3f-7de8e5c6cf97"
      },
      "source": [
        "test_acc, test_loss = evaluate(model_ft, test_loader,criterion)\n",
        "print('Test Acc : {:.5f} | Test Loss : {:.3f} '.format(test_acc, test_loss))"
      ],
      "execution_count": null,
      "outputs": [
        {
          "output_type": "stream",
          "text": [
            "/usr/local/lib/python3.7/dist-packages/torch/nn/functional.py:718: UserWarning: Named tensors and all their associated APIs are an experimental feature and subject to change. Please do not use them for anything important until they are released as stable. (Triggered internally at  /pytorch/c10/core/TensorImpl.h:1156.)\n",
            "  return torch.max_pool2d(input, kernel_size, stride, padding, dilation, ceil_mode)\n"
          ],
          "name": "stderr"
        },
        {
          "output_type": "stream",
          "text": [
            "Test Acc : 59.50000 | Test Loss : 2.132 \n"
          ],
          "name": "stdout"
        }
      ]
    }
  ]
}