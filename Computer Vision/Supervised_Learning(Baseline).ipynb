{
  "nbformat": 4,
  "nbformat_minor": 0,
  "metadata": {
    "colab": {
      "name": "Supervised Learning(Baseline without pretrained).ipynb",
      "provenance": []
    },
    "kernelspec": {
      "name": "python3",
      "display_name": "Python 3"
    },
    "language_info": {
      "name": "python"
    },
    "accelerator": "GPU",
    "widgets": {
      "application/vnd.jupyter.widget-state+json": {
        "855fca7a09e348c690e5a4b9e22487a4": {
          "model_module": "@jupyter-widgets/controls",
          "model_name": "HBoxModel",
          "state": {
            "_view_name": "HBoxView",
            "_dom_classes": [],
            "_model_name": "HBoxModel",
            "_view_module": "@jupyter-widgets/controls",
            "_model_module_version": "1.5.0",
            "_view_count": null,
            "_view_module_version": "1.5.0",
            "box_style": "",
            "layout": "IPY_MODEL_be5a0178326642369f65351861301171",
            "_model_module": "@jupyter-widgets/controls",
            "children": [
              "IPY_MODEL_8f2750b921a04545ac311f365ccce102",
              "IPY_MODEL_cdbd2c6385d44f71a0f4bed178fcc259"
            ]
          }
        },
        "be5a0178326642369f65351861301171": {
          "model_module": "@jupyter-widgets/base",
          "model_name": "LayoutModel",
          "state": {
            "_view_name": "LayoutView",
            "grid_template_rows": null,
            "right": null,
            "justify_content": null,
            "_view_module": "@jupyter-widgets/base",
            "overflow": null,
            "_model_module_version": "1.2.0",
            "_view_count": null,
            "flex_flow": null,
            "width": null,
            "min_width": null,
            "border": null,
            "align_items": null,
            "bottom": null,
            "_model_module": "@jupyter-widgets/base",
            "top": null,
            "grid_column": null,
            "overflow_y": null,
            "overflow_x": null,
            "grid_auto_flow": null,
            "grid_area": null,
            "grid_template_columns": null,
            "flex": null,
            "_model_name": "LayoutModel",
            "justify_items": null,
            "grid_row": null,
            "max_height": null,
            "align_content": null,
            "visibility": null,
            "align_self": null,
            "height": null,
            "min_height": null,
            "padding": null,
            "grid_auto_rows": null,
            "grid_gap": null,
            "max_width": null,
            "order": null,
            "_view_module_version": "1.2.0",
            "grid_template_areas": null,
            "object_position": null,
            "object_fit": null,
            "grid_auto_columns": null,
            "margin": null,
            "display": null,
            "left": null
          }
        },
        "8f2750b921a04545ac311f365ccce102": {
          "model_module": "@jupyter-widgets/controls",
          "model_name": "FloatProgressModel",
          "state": {
            "_view_name": "ProgressView",
            "style": "IPY_MODEL_19bbc5a697494887a3b375c616cdece5",
            "_dom_classes": [],
            "description": "",
            "_model_name": "FloatProgressModel",
            "bar_style": "success",
            "max": 2640397119,
            "_view_module": "@jupyter-widgets/controls",
            "_model_module_version": "1.5.0",
            "value": 2640397119,
            "_view_count": null,
            "_view_module_version": "1.5.0",
            "orientation": "horizontal",
            "min": 0,
            "description_tooltip": null,
            "_model_module": "@jupyter-widgets/controls",
            "layout": "IPY_MODEL_8100c62e4abd4262a6c38f3449a45c3e"
          }
        },
        "cdbd2c6385d44f71a0f4bed178fcc259": {
          "model_module": "@jupyter-widgets/controls",
          "model_name": "HTMLModel",
          "state": {
            "_view_name": "HTMLView",
            "style": "IPY_MODEL_cb0c8f7e6c434e779a220026931d7400",
            "_dom_classes": [],
            "description": "",
            "_model_name": "HTMLModel",
            "placeholder": "​",
            "_view_module": "@jupyter-widgets/controls",
            "_model_module_version": "1.5.0",
            "value": " 2640397312/? [02:18&lt;00:00, 19026907.19it/s]",
            "_view_count": null,
            "_view_module_version": "1.5.0",
            "description_tooltip": null,
            "_model_module": "@jupyter-widgets/controls",
            "layout": "IPY_MODEL_2d8fe7c25f544b69b8bb01ec3011ab83"
          }
        },
        "19bbc5a697494887a3b375c616cdece5": {
          "model_module": "@jupyter-widgets/controls",
          "model_name": "ProgressStyleModel",
          "state": {
            "_view_name": "StyleView",
            "_model_name": "ProgressStyleModel",
            "description_width": "initial",
            "_view_module": "@jupyter-widgets/base",
            "_model_module_version": "1.5.0",
            "_view_count": null,
            "_view_module_version": "1.2.0",
            "bar_color": null,
            "_model_module": "@jupyter-widgets/controls"
          }
        },
        "8100c62e4abd4262a6c38f3449a45c3e": {
          "model_module": "@jupyter-widgets/base",
          "model_name": "LayoutModel",
          "state": {
            "_view_name": "LayoutView",
            "grid_template_rows": null,
            "right": null,
            "justify_content": null,
            "_view_module": "@jupyter-widgets/base",
            "overflow": null,
            "_model_module_version": "1.2.0",
            "_view_count": null,
            "flex_flow": null,
            "width": null,
            "min_width": null,
            "border": null,
            "align_items": null,
            "bottom": null,
            "_model_module": "@jupyter-widgets/base",
            "top": null,
            "grid_column": null,
            "overflow_y": null,
            "overflow_x": null,
            "grid_auto_flow": null,
            "grid_area": null,
            "grid_template_columns": null,
            "flex": null,
            "_model_name": "LayoutModel",
            "justify_items": null,
            "grid_row": null,
            "max_height": null,
            "align_content": null,
            "visibility": null,
            "align_self": null,
            "height": null,
            "min_height": null,
            "padding": null,
            "grid_auto_rows": null,
            "grid_gap": null,
            "max_width": null,
            "order": null,
            "_view_module_version": "1.2.0",
            "grid_template_areas": null,
            "object_position": null,
            "object_fit": null,
            "grid_auto_columns": null,
            "margin": null,
            "display": null,
            "left": null
          }
        },
        "cb0c8f7e6c434e779a220026931d7400": {
          "model_module": "@jupyter-widgets/controls",
          "model_name": "DescriptionStyleModel",
          "state": {
            "_view_name": "StyleView",
            "_model_name": "DescriptionStyleModel",
            "description_width": "",
            "_view_module": "@jupyter-widgets/base",
            "_model_module_version": "1.5.0",
            "_view_count": null,
            "_view_module_version": "1.2.0",
            "_model_module": "@jupyter-widgets/controls"
          }
        },
        "2d8fe7c25f544b69b8bb01ec3011ab83": {
          "model_module": "@jupyter-widgets/base",
          "model_name": "LayoutModel",
          "state": {
            "_view_name": "LayoutView",
            "grid_template_rows": null,
            "right": null,
            "justify_content": null,
            "_view_module": "@jupyter-widgets/base",
            "overflow": null,
            "_model_module_version": "1.2.0",
            "_view_count": null,
            "flex_flow": null,
            "width": null,
            "min_width": null,
            "border": null,
            "align_items": null,
            "bottom": null,
            "_model_module": "@jupyter-widgets/base",
            "top": null,
            "grid_column": null,
            "overflow_y": null,
            "overflow_x": null,
            "grid_auto_flow": null,
            "grid_area": null,
            "grid_template_columns": null,
            "flex": null,
            "_model_name": "LayoutModel",
            "justify_items": null,
            "grid_row": null,
            "max_height": null,
            "align_content": null,
            "visibility": null,
            "align_self": null,
            "height": null,
            "min_height": null,
            "padding": null,
            "grid_auto_rows": null,
            "grid_gap": null,
            "max_width": null,
            "order": null,
            "_view_module_version": "1.2.0",
            "grid_template_areas": null,
            "object_position": null,
            "object_fit": null,
            "grid_auto_columns": null,
            "margin": null,
            "display": null,
            "left": null
          }
        }
      }
    }
  },
  "cells": [
    {
      "cell_type": "code",
      "metadata": {
        "id": "wCkplQeKhUIL",
        "colab": {
          "base_uri": "https://localhost:8080/",
          "height": 116,
          "referenced_widgets": [
            "855fca7a09e348c690e5a4b9e22487a4",
            "be5a0178326642369f65351861301171",
            "8f2750b921a04545ac311f365ccce102",
            "cdbd2c6385d44f71a0f4bed178fcc259",
            "19bbc5a697494887a3b375c616cdece5",
            "8100c62e4abd4262a6c38f3449a45c3e",
            "cb0c8f7e6c434e779a220026931d7400",
            "2d8fe7c25f544b69b8bb01ec3011ab83"
          ]
        },
        "outputId": "8e30f053-37f9-490c-e6ff-4c2bf94945c5"
      },
      "source": [
        "from __future__ import print_function, division\n",
        "import torch\n",
        "import torch.nn as nn\n",
        "import torch.optim as optim\n",
        "from torch.optim import lr_scheduler\n",
        "import numpy as np\n",
        "import torchvision\n",
        "from torch.utils.data import Dataset\n",
        "from torchvision import datasets, models, transforms\n",
        "import matplotlib.pyplot as plt\n",
        "import time\n",
        "import copy\n",
        "#data augmentation and Normalization\n",
        "train_transform = transforms.Compose([\n",
        "        transforms.Resize((272,272)),\n",
        "        transforms.RandomRotation(15,),\n",
        "        transforms.RandomCrop(256),\n",
        "        transforms.RandomHorizontalFlip(),\n",
        "        transforms.ToTensor(),\n",
        "        transforms.Normalize(mean=[0.507, 0.487, 0.441], std=[0.267, 0.256, 0.276])\n",
        "    ])\n",
        "\n",
        "test_transform = transforms.Compose([\n",
        "        transforms.Resize(256),\n",
        "        transforms.ToTensor(),\n",
        "        transforms.Normalize(mean=[0.507, 0.487, 0.441], std=[0.267, 0.256, 0.276])\n",
        "    ])\n",
        "\n",
        "trainset = datasets.STL10(\n",
        "    root=\"data\",\n",
        "    split='train',\n",
        "    download=True,\n",
        "    transform=train_transform\n",
        ")\n",
        "testset = datasets.STL10(\n",
        "    root=\"data\",\n",
        "    split='test',\n",
        "    download=True,\n",
        "    transform=test_transform\n",
        ")\n",
        "from torch.utils.data import DataLoader\n",
        "\n",
        "train_dataloader = DataLoader(trainset, batch_size=24, shuffle=True)\n",
        "test_dataloader = DataLoader(testset, batch_size=24, shuffle=True)\n",
        "dataloaders={'train': train_dataloader,'test': test_dataloader}\n",
        "dataset_sizes= {'train':len(trainset),'test':len(testset)}\n",
        "device = torch.device(\"cuda:0\" if torch.cuda.is_available() else \"cpu\")\n",
        "model_ft = models.wide_resnet101_2()\n",
        "Num_class=10\n",
        "\n",
        "\n"
      ],
      "execution_count": null,
      "outputs": [
        {
          "output_type": "stream",
          "text": [
            "Downloading http://ai.stanford.edu/~acoates/stl10/stl10_binary.tar.gz to data/stl10_binary.tar.gz\n"
          ],
          "name": "stdout"
        },
        {
          "output_type": "display_data",
          "data": {
            "application/vnd.jupyter.widget-view+json": {
              "model_id": "855fca7a09e348c690e5a4b9e22487a4",
              "version_minor": 0,
              "version_major": 2
            },
            "text/plain": [
              "HBox(children=(FloatProgress(value=0.0, max=2640397119.0), HTML(value='')))"
            ]
          },
          "metadata": {
            "tags": []
          }
        },
        {
          "output_type": "stream",
          "text": [
            "\n",
            "Extracting data/stl10_binary.tar.gz to data\n",
            "Files already downloaded and verified\n"
          ],
          "name": "stdout"
        }
      ]
    },
    {
      "cell_type": "code",
      "metadata": {
        "id": "d4pZY-OSQduL"
      },
      "source": [
        "def evaluate(model, test_loader,criterion):\n",
        "    model.eval()\n",
        "    correct = 0 \n",
        "    loss = 0\n",
        "    with torch.no_grad():\n",
        "        for data, labels in test_loader:\n",
        "            data = data.cuda()\n",
        "            output = model(data)\n",
        "            predicted = torch.max(output,1)[1]\n",
        "            correct += (predicted == labels.cuda()).sum()\n",
        "            loss += criterion(output, labels.cuda()).item()\n",
        "\n",
        "    return (float(correct)/len(testset)) *100, (loss/len(test_loader))"
      ],
      "execution_count": null,
      "outputs": []
    },
    {
      "cell_type": "code",
      "metadata": {
        "id": "e-JAZwvmQKVz"
      },
      "source": [
        "def train_supervised(model, train_loader, test_loader,criterion, optimizer, num_epochs=25):\n",
        "    model.train()\n",
        "    for epoch in range(num_epochs):\n",
        "        correct = 0\n",
        "        running_loss = 0\n",
        "        for batch_idx, (X_batch, y_batch) in enumerate(train_loader):\n",
        "            X_batch, y_batch = X_batch.cuda(), y_batch.cuda()\n",
        "            \n",
        "            output = model(X_batch)\n",
        "            labeled_loss = criterion(output, y_batch)\n",
        "                       \n",
        "            optimizer.zero_grad()\n",
        "            labeled_loss.backward()\n",
        "            optimizer.step()\n",
        "            running_loss += labeled_loss.item()\n",
        "        if epoch %10 == 0:\n",
        "            test_acc, test_loss = evaluate(model, test_loader,criterion)\n",
        "            print('Epoch: {} : Train Loss : {:.5f} | Test Acc : {:.5f} | Test Loss : {:.3f} '.format(epoch, running_loss/(10 * len(trainset)), test_acc, test_loss))\n",
        "            model.train()\n",
        "    return model"
      ],
      "execution_count": null,
      "outputs": []
    },
    {
      "cell_type": "code",
      "metadata": {
        "colab": {
          "base_uri": "https://localhost:8080/"
        },
        "id": "a-PIFaTUSLBR",
        "outputId": "23444303-3889-4f94-a9d2-23094d20e8bf"
      },
      "source": [
        "model_ft = model_ft.to(device)\n",
        "\n",
        "criterion = nn.CrossEntropyLoss()\n",
        "\n",
        "# Observe that all parameters are being optimized\n",
        "optimizer_ft = optim.Adam(model_ft.parameters(), lr=0.001)\n",
        "\n",
        "# Decay LR by a factor of 0.1 every 7 epochs\n",
        "#exp_lr_scheduler = lr_scheduler.StepLR(optimizer_ft, step_size=7, gamma=0.1)\n",
        "\n",
        "model_ft=train_supervised(model_ft, train_dataloader, test_dataloader,criterion, optimizer_ft,\n",
        "                       num_epochs=100)"
      ],
      "execution_count": null,
      "outputs": [
        {
          "output_type": "stream",
          "text": [
            "/usr/local/lib/python3.7/dist-packages/torch/nn/functional.py:718: UserWarning: Named tensors and all their associated APIs are an experimental feature and subject to change. Please do not use them for anything important until they are released as stable. (Triggered internally at  /pytorch/c10/core/TensorImpl.h:1156.)\n",
            "  return torch.max_pool2d(input, kernel_size, stride, padding, dilation, ceil_mode)\n"
          ],
          "name": "stderr"
        },
        {
          "output_type": "stream",
          "text": [
            "Epoch: 0 : Train Loss : 0.00840 | Test Acc : 28.90000 | Test Loss : 1.789 \n",
            "Epoch: 10 : Train Loss : 0.00542 | Test Acc : 51.27500 | Test Loss : 1.342 \n",
            "Epoch: 20 : Train Loss : 0.00436 | Test Acc : 61.62500 | Test Loss : 1.054 \n",
            "Epoch: 30 : Train Loss : 0.00336 | Test Acc : 68.56250 | Test Loss : 0.890 \n",
            "Epoch: 40 : Train Loss : 0.00252 | Test Acc : 70.80000 | Test Loss : 0.865 \n",
            "Epoch: 50 : Train Loss : 0.00176 | Test Acc : 71.73750 | Test Loss : 0.952 \n",
            "Epoch: 60 : Train Loss : 0.00119 | Test Acc : 74.67500 | Test Loss : 0.843 \n",
            "Epoch: 70 : Train Loss : 0.00086 | Test Acc : 75.36250 | Test Loss : 0.971 \n",
            "Epoch: 80 : Train Loss : 0.00054 | Test Acc : 76.92500 | Test Loss : 1.057 \n",
            "Epoch: 90 : Train Loss : 0.00048 | Test Acc : 76.35000 | Test Loss : 1.072 \n"
          ],
          "name": "stdout"
        }
      ]
    },
    {
      "cell_type": "code",
      "metadata": {
        "id": "1y6tTDcDVrSF",
        "colab": {
          "base_uri": "https://localhost:8080/"
        },
        "outputId": "78b072f3-bf1a-472d-845f-fdc9d03065b9"
      },
      "source": [
        "test_acc, test_loss = evaluate(model_ft, test_dataloader,criterion)\n",
        "print('Test Acc : {:.5f} | Test Loss : {:.3f} '.format(test_acc, test_loss))\n",
        "torch.save(model_ft.state_dict(), 'supervised.pth')"
      ],
      "execution_count": null,
      "outputs": [
        {
          "output_type": "stream",
          "text": [
            "Test Acc : 76.27500 | Test Loss : 1.079 \n"
          ],
          "name": "stdout"
        }
      ]
    }
  ]
}